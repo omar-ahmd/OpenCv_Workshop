{
  "nbformat": 4,
  "nbformat_minor": 0,
  "metadata": {
    "colab": {
      "name": "0-IntoNumpy.ipynb",
      "provenance": [],
      "toc_visible": true,
      "authorship_tag": "ABX9TyNrjdtIdc11JDxeWmjMxNUf",
      "include_colab_link": true
    },
    "kernelspec": {
      "name": "python3",
      "display_name": "Python 3"
    }
  },
  "cells": [
    {
      "cell_type": "markdown",
      "metadata": {
        "id": "view-in-github",
        "colab_type": "text"
      },
      "source": [
        "<a href=\"https://colab.research.google.com/github/omar-ahmd/OpenCv_Workshop/blob/main/0_IntoNumpy.ipynb\" target=\"_parent\"><img src=\"https://colab.research.google.com/assets/colab-badge.svg\" alt=\"Open In Colab\"/></a>"
      ]
    },
    {
      "cell_type": "markdown",
      "metadata": {
        "id": "NxvHdODuDfsz"
      },
      "source": [
        "# Numpy\r\n",
        "Numpy is the core library for scientific computing in Python. It provides a high-performance multidimensional array object, and tools for working with these arrays. "
      ]
    },
    {
      "cell_type": "code",
      "metadata": {
        "id": "58QdX8BLL9hZ"
      },
      "source": [
        "import numpy as np"
      ],
      "execution_count": null,
      "outputs": []
    },
    {
      "cell_type": "markdown",
      "metadata": {
        "id": "kijO3yl8E4DO"
      },
      "source": [
        "## Create array in Nnumpy"
      ]
    },
    {
      "cell_type": "code",
      "metadata": {
        "id": "1_65LccAEGlN"
      },
      "source": [
        "arr = np.array([1,2,3])\r\n",
        "\r\n",
        "print(type(arr))\r\n",
        "print(arr.shape)\r\n",
        "arr[0]\r\n"
      ],
      "execution_count": null,
      "outputs": []
    },
    {
      "cell_type": "code",
      "metadata": {
        "id": "joyFHDxxFg6-"
      },
      "source": [
        "arr1 = np.zeros((2,3,6))\r\n",
        "arr2 = np.ones((2,9,5))\r\n",
        "arr3 = np.eye(2)    \r\n",
        "arr4 = np.random.random((2,2)) # Create an array filled with random values  \r\n",
        "arr5 = np.random.randint(low=10,high=200,size=(2,5))"
      ],
      "execution_count": null,
      "outputs": []
    },
    {
      "cell_type": "code",
      "metadata": {
        "colab": {
          "base_uri": "https://localhost:8080/"
        },
        "id": "aKFW03QSFoev",
        "outputId": "fd44b7cc-f7a4-4d5c-ea07-18ebcac6de22"
      },
      "source": [
        "print(arr3)"
      ],
      "execution_count": null,
      "outputs": [
        {
          "output_type": "stream",
          "text": [
            "[[1. 0.]\n",
            " [0. 1.]]\n"
          ],
          "name": "stdout"
        }
      ]
    },
    {
      "cell_type": "markdown",
      "metadata": {
        "id": "Kse5lP-5HQKb"
      },
      "source": [
        "## Array indexing"
      ]
    },
    {
      "cell_type": "markdown",
      "metadata": {
        "id": "p6OgL3wPHXV9"
      },
      "source": [
        "Numpy offers several ways to index into arrays."
      ]
    },
    {
      "cell_type": "markdown",
      "metadata": {
        "id": "DNfQh_ueHYK6"
      },
      "source": [
        "Slicing: Similar to Python lists, numpy arrays can be sliced. Since arrays may be multidimensional, you must specify a slice for each dimension of the array:"
      ]
    },
    {
      "cell_type": "code",
      "metadata": {
        "colab": {
          "base_uri": "https://localhost:8080/"
        },
        "id": "rToWYdy_HUJU",
        "outputId": "0cedb656-bf5d-4419-94d1-e8a58c06ce25"
      },
      "source": [
        "\r\n",
        "\r\n",
        "a = np.array([[1,2,3,4], [5,6,7,8], [9,10,11,12]])\r\n",
        "\r\n",
        "b = a[:2, 1:3]\r\n",
        "print(b)"
      ],
      "execution_count": null,
      "outputs": [
        {
          "output_type": "stream",
          "text": [
            "[[2 3]\n",
            " [6 7]]\n"
          ],
          "name": "stdout"
        }
      ]
    },
    {
      "cell_type": "markdown",
      "metadata": {
        "id": "3h8XrJ4SKCI8"
      },
      "source": [
        "A slice of an array is a view into the same data, so modifying it will modify the original array."
      ]
    },
    {
      "cell_type": "code",
      "metadata": {
        "colab": {
          "base_uri": "https://localhost:8080/"
        },
        "id": "2MbG0xpQJVjc",
        "outputId": "3cc1abfc-4af0-469c-a0de-0d2af050c9c4"
      },
      "source": [
        "print(a[0, 1])\r\n",
        "b[0, 0] = 77    # b[0, 0] is the same piece of data as a[0, 1]\r\n",
        "print(a[0, 1]) "
      ],
      "execution_count": null,
      "outputs": [
        {
          "output_type": "stream",
          "text": [
            "2\n",
            "77\n"
          ],
          "name": "stdout"
        }
      ]
    },
    {
      "cell_type": "markdown",
      "metadata": {
        "id": "JHASB6tLJ8qc"
      },
      "source": [
        "You can also mix integer indexing with slice indexing:"
      ]
    },
    {
      "cell_type": "code",
      "metadata": {
        "colab": {
          "base_uri": "https://localhost:8080/"
        },
        "id": "4AxLGh_kJd_0",
        "outputId": "8d8baa14-7e5d-4152-824e-1965aa4dc472"
      },
      "source": [
        "a = np.array([[1,2,3,4], [5,6,7,8], [9,10,11,12]])\r\n",
        "print(a)"
      ],
      "execution_count": null,
      "outputs": [
        {
          "output_type": "stream",
          "text": [
            "[[ 1  2  3  4]\n",
            " [ 5  6  7  8]\n",
            " [ 9 10 11 12]]\n"
          ],
          "name": "stdout"
        }
      ]
    },
    {
      "cell_type": "code",
      "metadata": {
        "colab": {
          "base_uri": "https://localhost:8080/"
        },
        "id": "5GNefEqAKlTV",
        "outputId": "55d6d013-4388-440d-9349-c1f36a987405"
      },
      "source": [
        "row_r1 = a[1, :]    # Rank 1 view of the second row of a \r\n",
        "row_r2 = a[1:3,:]\r\n",
        "row_r3 = a[1:3,1:3]\r\n",
        "\r\n",
        "print(row_r1)\r\n",
        "print('\\n')\r\n",
        "print(row_r2)\r\n",
        "print('\\n')\r\n",
        "print(row_r3)"
      ],
      "execution_count": null,
      "outputs": [
        {
          "output_type": "stream",
          "text": [
            "[5 6 7 8]\n",
            "\n",
            "\n",
            "[[ 5  6  7  8]\n",
            " [ 9 10 11 12]]\n",
            "\n",
            "\n",
            "[[ 6  7]\n",
            " [10 11]]\n"
          ],
          "name": "stdout"
        }
      ]
    },
    {
      "cell_type": "markdown",
      "metadata": {
        "id": "qcO4HI2qLcxa"
      },
      "source": [
        "Integer array indexing:"
      ]
    },
    {
      "cell_type": "code",
      "metadata": {
        "id": "qFGTVcvWLdpK"
      },
      "source": [
        "a = np.array([[1,2], [3, 4], [5, 6]])\r\n",
        "\r\n",
        "# An example of integer array indexing.\r\n",
        "# The returned array will have shape (3,) and \r\n",
        "print(a[[0, 1, 2], [0, 1, 0]])\r\n",
        "\r\n",
        "# The above example of integer array indexing is equivalent to this:\r\n",
        "print(np.array([a[0, 0], a[1, 1], a[2, 0]]))"
      ],
      "execution_count": null,
      "outputs": []
    },
    {
      "cell_type": "markdown",
      "metadata": {
        "id": "_uqrxOu_LwAz"
      },
      "source": [
        "Boolean array indexing: Boolean array indexing lets you pick out arbitrary elements of an array. Frequently this type of indexing is used to select the elements of an array that satisfy some condition. Here is an example:"
      ]
    },
    {
      "cell_type": "code",
      "metadata": {
        "id": "qBOZwyLnLw7i"
      },
      "source": [
        "import numpy as np\r\n",
        "\r\n",
        "a = np.array([[1,2], [3, 4], [5, 6]])\r\n",
        "\r\n",
        "bool_idx = (a > 2)  # Find the elements of a that are bigger than 2;\r\n",
        "                    # this returns a numpy array of Booleans of the same\r\n",
        "                    # shape as a, where each slot of bool_idx tells\r\n",
        "                    # whether that element of a is > 2.\r\n",
        "\r\n",
        "print(bool_idx)"
      ],
      "execution_count": null,
      "outputs": []
    },
    {
      "cell_type": "code",
      "metadata": {
        "id": "Q8EC0fRCL7Wi"
      },
      "source": [
        "# We use boolean array indexing to construct a rank 1 array\r\n",
        "# consisting of the elements of a corresponding to the True values\r\n",
        "# of bool_idx\r\n",
        "print(a[bool_idx])\r\n",
        "\r\n",
        "# We can do all of the above in a single concise statement:\r\n",
        "print(a[a > 2])"
      ],
      "execution_count": null,
      "outputs": []
    },
    {
      "cell_type": "markdown",
      "metadata": {
        "id": "8WKyexYmMb0s"
      },
      "source": [
        "## Vectorized operations with numpy \r\n",
        "In this example,we will create N segments, each one presented by 2 Points (x1,y1) and (x2,y2), compute the length of each one. \r\n",
        "In this application, we show the huge difference between using the vectorized and non-vectorized version..\r\n"
      ]
    },
    {
      "cell_type": "markdown",
      "metadata": {
        "id": "YQVt_CO2Na22"
      },
      "source": [
        "**Vectorized Method**\r\n",
        "\r\n",
        "\r\n",
        "![Screenshot (34).png](data:image/png;base64,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)"
      ]
    },
    {
      "cell_type": "code",
      "metadata": {
        "colab": {
          "base_uri": "https://localhost:8080/"
        },
        "id": "FoMXmySzMjDT",
        "outputId": "1d0262fa-e461-4e71-fa20-dd8516f1d24f"
      },
      "source": [
        "import time\r\n",
        "allLines = np.random.rand(int(90000),4)\r\n",
        "\r\n",
        "\r\n",
        "print('Vectorized started...')\r\n",
        "start = time.time()\r\n",
        "diffLines = np.diff(allLines) \r\n",
        "diffLines = np.delete(diffLines,1,1)\r\n",
        "lengths = np.linalg.norm(diffLines,axis = 1)\r\n",
        "diffLines = diffLines[lengths > 0.3]\r\n",
        "end = time.time()\r\n",
        "print('Vectorized done')\r\n",
        "print('Time : ', end- start)\r\n",
        "print('\\n\\n')"
      ],
      "execution_count": null,
      "outputs": [
        {
          "output_type": "stream",
          "text": [
            "Vectorized started...\n",
            "Vectorized done\n",
            "Time :  0.009582996368408203\n",
            "\n",
            "\n",
            "\n"
          ],
          "name": "stdout"
        }
      ]
    },
    {
      "cell_type": "markdown",
      "metadata": {
        "id": "Se5eVz1WOIvO"
      },
      "source": [
        "**Non vectorized Method**\r\n",
        "\r\n",
        "\r\n",
        "![Screenshot (33).png](data:image/png;base64,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)"
      ]
    },
    {
      "cell_type": "code",
      "metadata": {
        "colab": {
          "base_uri": "https://localhost:8080/"
        },
        "id": "KBz-vXwvNMbF",
        "outputId": "c76db866-0bd0-4566-fe78-519cc96b695b"
      },
      "source": [
        "allLines = np.random.rand(int(90000),4)\r\n",
        "print('Non-Vectorized started...')\r\n",
        "start = time.time()\r\n",
        "arr = np.empty((0,4))\r\n",
        "print(arr)\r\n",
        "for x1, x2, y1 , y2 in allLines:\r\n",
        "    if np.sqrt((x1 - y1)**2 + (x2 - y2)**2) > 0.3:\r\n",
        "        arr = np.append(arr, np.array([x1, y1, x2, y2]))\r\n",
        "end = time.time()\r\n",
        "print('Non-Vectorized done')\r\n",
        "print('Time : ', end- start)"
      ],
      "execution_count": null,
      "outputs": [
        {
          "output_type": "stream",
          "text": [
            "Non-Vectorized started...\n",
            "[]\n",
            "Non-Vectorized done\n",
            "Time :  15.945874452590942\n"
          ],
          "name": "stdout"
        }
      ]
    },
    {
      "cell_type": "markdown",
      "metadata": {
        "id": "_lnTlV3iPssD"
      },
      "source": [
        "This brief overview has touched on many of the important things that you need to know about numpy, but is far from complete. Check out the [numpy reference](http://docs.scipy.org/doc/numpy/reference/) to find out much more about numpy."
      ]
    }
  ]
}